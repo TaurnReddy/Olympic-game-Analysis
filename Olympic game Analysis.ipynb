{
 "cells": [
  {
   "cell_type": "code",
   "execution_count": null,
   "metadata": {},
   "outputs": [],
   "source": [
    "import numpy as np\n",
    "import pandas as pd\n",
    "import os\n",
    "\n",
    "from sklearn.ensemble import RandomForestClassifier\n",
    "from sklearn.preprocessing import RobustScaler\n",
    "from sklearn.impute import SimpleImputer\n",
    "from sklearn.pipeline import Pipeline\n",
    "from sklearn.metrics import confusion_matrix\n",
    "\n",
    "import featuretools as ft\n",
    "\n",
    "import utils as utils\n",
    "\n",
    "%matplotlib inline\n"
   ]
  },
  {
   "cell_type": "code",
   "execution_count": null,
   "metadata": {},
   "outputs": [],
   "source": [
    "DATA_DIR = os.path.join(os.getcwd(),\"data/olympic_games_data\")\n",
    "es = utils.load_entityset(data_dir=DATA_DIR)\n",
    "\n",
    "label_file = os.path.join(DATA_DIR, \"num_medals_by_country_labels.csv\")\n",
    "label_df = pd.read_csv(label_file,\n",
    "                       parse_dates=['Olympics Date'],\n",
    "                       encoding='utf-8',\n",
    "                       usecols=['Number of Medals', 'Olympics Date', 'Country'])\n",
    "label_df.sort_values(['Olympics Date', 'Country'], inplace=True)"
   ]
  },
  {
   "cell_type": "code",
   "execution_count": null,
   "metadata": {},
   "outputs": [],
   "source": [
    "es.plot()"
   ]
  },
  {
   "cell_type": "code",
   "execution_count": null,
   "metadata": {},
   "outputs": [],
   "source": [
    "dates = label_df['Olympics Date']\n",
    "labels = label_df['Number of Medals']\n",
    "y_binary = (labels >= 10).values"
   ]
  },
  {
   "cell_type": "code",
   "execution_count": null,
   "metadata": {},
   "outputs": [],
   "source": [
    "binary_scores.set_index('Olympics Year')['roc_auc'].plot(title='AUC vs. Olympics Year')"
   ]
  },
  {
   "cell_type": "code",
   "execution_count": null,
   "metadata": {},
   "outputs": [],
   "source": [
    "split, year = 10, '2004'\n",
    "train, test = splitter.split(X, y_binary)[split]\n",
    "pipeline.fit(X[train], y_binary[train])\n",
    "y_pred = pipeline.predict(X[test])\n",
    "cm = confusion_matrix(y_binary[test], y_pred)\n",
    "utils.plot_confusion_matrix(cm, ['Won < 10 Medals', 'Won >= 10 Medals'], title=year)"
   ]
  }
 ],
 "metadata": {
  "kernelspec": {
   "display_name": "Python 3",
   "language": "python",
   "name": "python3"
  }
 },
 "nbformat": 4,
 "nbformat_minor": 2
}
